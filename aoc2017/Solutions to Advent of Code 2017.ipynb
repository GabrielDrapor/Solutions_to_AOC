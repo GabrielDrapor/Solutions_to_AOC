{
 "cells": [
  {
   "cell_type": "markdown",
   "metadata": {},
   "source": [
    "### Day 1"
   ]
  },
  {
   "cell_type": "code",
   "execution_count": null,
   "metadata": {
    "collapsed": true
   },
   "outputs": [],
   "source": [
    "#Input\n",
    "seq = \"3294199471327195994824832197564859876682638188889768298894243832665654681412886862234525991553276578641265589959178414218389329361496673991614673626344552179413995562266818138372393213966143124914469397692587251112663217862879233226763533911128893354536353213847122251463857894159819828724827969576432191847787772732881266875469721189331882228146576832921314638221317393256471998598117289632684663355273845983933845721713497811766995367795857965222183668765517454263354111134841334631345111596131682726196574763165187889337599583345634413436165539744188866156771585647718555182529936669683581662398618765391487164715724849894563314426959348119286955144439452731762666568741612153254469131724137699832984728937865956711925592628456617133695259554548719328229938621332325125972547181236812263887375866231118312954369432937359357266467383318326239572877314765121844831126178173988799765218913178825966268816476559792947359956859989228917136267178571776316345292573489873792149646548747995389669692188457724414468727192819919448275922166321158141365237545222633688372891451842434458527698774342111482498999383831492577615154591278719656798277377363284379468757998373193231795767644654155432692988651312845433511879457921638934877557575241394363721667237778962455961493559848522582413748218971212486373232795878362964873855994697149692824917183375545192119453587398199912564474614219929345185468661129966379693813498542474732198176496694746111576925715493967296487258237854152382365579876894391815759815373319159213475555251488754279888245492373595471189191353244684697662848376529881512529221627313527441221459672786923145165989611223372241149929436247374818467481641931872972582295425936998535194423916544367799522276914445231582272368388831834437562752119325286474352863554693373718848649568451797751926315617575295381964426843625282819524747119726872193569785611959896776143539915299968276374712996485367853494734376257511273443736433464496287219615697341973131715166768916149828396454638596713572963686159214116763\""
   ]
  },
  {
   "cell_type": "code",
   "execution_count": null,
   "metadata": {
    "collapsed": true,
    "scrolled": true
   },
   "outputs": [],
   "source": [
    "# --- Part One ---\n",
    "sum(int(seq[i]) for i in range(len(seq)) if seq[i] == seq[i-1])"
   ]
  },
  {
   "cell_type": "code",
   "execution_count": null,
   "metadata": {
    "collapsed": true
   },
   "outputs": [],
   "source": [
    "# --- Part Two ---\n",
    "sum(int(seq[i]) for i in range(len(seq)//2) if seq[i] == seq[i-len(seq)//2])*2"
   ]
  },
  {
   "cell_type": "markdown",
   "metadata": {},
   "source": [
    "### Day 2"
   ]
  },
  {
   "cell_type": "code",
   "execution_count": null,
   "metadata": {
    "collapsed": true
   },
   "outputs": [],
   "source": [
    "import pandas as pd"
   ]
  },
  {
   "cell_type": "code",
   "execution_count": null,
   "metadata": {
    "collapsed": true,
    "scrolled": true
   },
   "outputs": [],
   "source": [
    "#Input\n",
    "spreadsheet = \"\"\"\n",
    "86\t440\t233\t83\t393\t420\t228\t491\t159\t13\t110\t135\t97\t238\t92\t396\n",
    "3646\t3952\t3430\t145\t1574\t2722\t3565\t125\t3303\t843\t152\t1095\t3805\t134\t3873\t3024\n",
    "2150\t257\t237\t2155\t1115\t150\t502\t255\t1531\t894\t2309\t1982\t2418\t206\t307\t2370\n",
    "1224\t343\t1039\t126\t1221\t937\t136\t1185\t1194\t1312\t1217\t929\t124\t1394\t1337\t168\n",
    "1695\t2288\t224\t2667\t2483\t3528\t809\t263\t2364\t514\t3457\t3180\t2916\t239\t212\t3017\n",
    "827\t3521\t127\t92\t2328\t3315\t1179\t3240\t695\t3144\t3139\t533\t132\t82\t108\t854\n",
    "1522\t2136\t1252\t1049\t207\t2821\t2484\t413\t2166\t1779\t162\t2154\t158\t2811\t164\t2632\n",
    "95\t579\t1586\t1700\t79\t1745\t1105\t89\t1896\t798\t1511\t1308\t1674\t701\t60\t2066\n",
    "1210\t325\t98\t56\t1486\t1668\t64\t1601\t1934\t1384\t69\t1725\t992\t619\t84\t167\n",
    "4620\t2358\t2195\t4312\t168\t1606\t4050\t102\t2502\t138\t135\t4175\t1477\t2277\t2226\t1286\n",
    "5912\t6261\t3393\t431\t6285\t3636\t4836\t180\t6158\t6270\t209\t3662\t5545\t204\t6131\t230\n",
    "170\t2056\t2123\t2220\t2275\t139\t461\t810\t1429\t124\t1470\t2085\t141\t1533\t1831\t518\n",
    "193\t281\t2976\t3009\t626\t152\t1750\t1185\t3332\t715\t1861\t186\t1768\t3396\t201\t3225\n",
    "492\t1179\t154\t1497\t819\t2809\t2200\t2324\t157\t2688\t1518\t168\t2767\t2369\t2583\t173\n",
    "286\t2076\t243\t939\t399\t451\t231\t2187\t2295\t453\t1206\t2468\t2183\t230\t714\t681\n",
    "3111\t2857\t2312\t3230\t149\t3082\t408\t1148\t2428\t134\t147\t620\t128\t157\t492\t2879\n",
    "\"\"\""
   ]
  },
  {
   "cell_type": "code",
   "execution_count": null,
   "metadata": {
    "collapsed": true
   },
   "outputs": [],
   "source": [
    "# --- Part One ---\n",
    "s = pd.DataFrame([i.split('\\t') for i in spreadsheet[1:-1].split('\\n')]).apply(lambda x:[int(_) for _ in x],axis=1)\n",
    "s.apply(lambda x:max(x)-min(x),axis=1).sum()"
   ]
  },
  {
   "cell_type": "code",
   "execution_count": null,
   "metadata": {
    "collapsed": true
   },
   "outputs": [],
   "source": [
    "# --- Part Two ---\n",
    "s.apply(lambda x:[a//b for a in x for b in x if a!=b and a//b == a/b][0],axis=1).sum()"
   ]
  },
  {
   "cell_type": "markdown",
   "metadata": {},
   "source": [
    "### Day 3 "
   ]
  },
  {
   "cell_type": "code",
   "execution_count": null,
   "metadata": {
    "collapsed": true
   },
   "outputs": [],
   "source": [
    "ipt = 368078"
   ]
  },
  {
   "cell_type": "code",
   "execution_count": null,
   "metadata": {
    "collapsed": true
   },
   "outputs": [],
   "source": [
    "# --- Part One ---\n",
    "def find(ipt):\n",
    "    \"\"\"\n",
    "    Find coordinate of given number\n",
    "    \"\"\"\n",
    "    last_sq_root = int(ipt**0.5)+int(ipt**0.5)%2-1\n",
    "    x = last_sq_root//2; y = -x # initial x, y   \n",
    "    \n",
    "    d = ipt - last_sq_root**2\n",
    "    side = d//(last_sq_root+1)    \n",
    "    d -= side*(last_sq_root+1) + 1\n",
    "\n",
    "    if side == 0:\n",
    "        x += 1; y += d\n",
    "    elif side == 1:\n",
    "        x -= d; y += last_sq_root\n",
    "    elif side == 2:\n",
    "        x -= last_sq_root; y += last_sq_root - d - 1\n",
    "    elif side == 3:\n",
    "        x -= last_sq_root - d - 1; y -= 1\n",
    "\n",
    "\n",
    "    return (x, y)"
   ]
  },
  {
   "cell_type": "code",
   "execution_count": null,
   "metadata": {
    "collapsed": true
   },
   "outputs": [],
   "source": [
    "sum(abs(i) for i in find(ipt))"
   ]
  },
  {
   "cell_type": "code",
   "execution_count": null,
   "metadata": {
    "collapsed": true
   },
   "outputs": [],
   "source": [
    "# --- Part Two ---\n",
    "def d3p2(ipt):\n",
    "    def find_(x, y):\n",
    "        last_sq = (max([abs(x), abs(y)])) * 2 - 1\n",
    "        last_sq_cor = (last_sq//2, -(last_sq//2))\n",
    "\n",
    "        if x > 0 and x + y == 0:\n",
    "            return (x * 2 + 1)**2\n",
    "        elif x == (last_sq + 1)/2:\n",
    "            return last_sq**2 + y + (last_sq + 1)//2\n",
    "        elif y == (last_sq + 1)/2: \n",
    "            return last_sq**2 + 2*(last_sq//2+1) + (last_sq//2 - x) + 1\n",
    "        elif x == -(last_sq + 1)/2:\n",
    "            return last_sq**2 + 4*(last_sq//2+1) + last_sq//2 - y + 1\n",
    "        elif y == -(last_sq + 1)/2:\n",
    "            return last_sq**2 + 6*(last_sq//2+1) + (last_sq//2 + x) + 1\n",
    "\n",
    "    def biu(x,y):\n",
    "        init = {(0,0):1}\n",
    "        if (x,y) in init:\n",
    "            return init[(x,y)]\n",
    "        else:\n",
    "            d = lambda x,y,m,n:(x-m)**2+(y-n)**2\n",
    "            l = max((abs(x),abs(y))) + 1\n",
    "            s = [(i,j) for i in range(-l,l) for j in range(-l, l) \\\n",
    "                 if 1 <= d(i,j,x,y) <=2 and find_(x,y) > find_(i,j) ]\n",
    "            return sum(biu(*_) for _ in s )\n",
    "    \n",
    "    x, y = 0, 0\n",
    "    while True:\n",
    "        if biu(x, y) > ipt:\n",
    "            return x,y,biu(x,y)\n",
    "        else:\n",
    "            if x + y == 0:\n",
    "                if x > 0:\n",
    "                    x += 1\n",
    "                else:\n",
    "                    y -= 1 \n",
    "            elif x == y:\n",
    "                if x >= 0:\n",
    "                    x -= 1\n",
    "                else:\n",
    "                    x += 1\n",
    "            elif abs(x) > abs(y):\n",
    "                y -= (-1)**(x > 0)\n",
    "            else:\n",
    "                x += (-1)**(y > 0)"
   ]
  },
  {
   "cell_type": "code",
   "execution_count": null,
   "metadata": {
    "collapsed": true
   },
   "outputs": [],
   "source": [
    "d3p2(ipt=368078) #really slow..."
   ]
  },
  {
   "cell_type": "markdown",
   "metadata": {},
   "source": [
    "### Day 4"
   ]
  },
  {
   "cell_type": "code",
   "execution_count": null,
   "metadata": {
    "collapsed": true
   },
   "outputs": [],
   "source": [
    "# --- Part One ---\n",
    "from collections import Counter\n",
    "\n",
    "def check1(iterable):\n",
    "    return sum(iterable) == len(iterable)\n",
    "\n",
    "with open('./d4p1_input', 'r') as f:\n",
    "    ipt_string = f.read()\n",
    " \n",
    "Counter([check1(Counter(i.split(' ')).values()) for i in ipt_string.split('\\n')])"
   ]
  },
  {
   "cell_type": "code",
   "execution_count": null,
   "metadata": {
    "collapsed": true
   },
   "outputs": [],
   "source": [
    "# --- Part Two\n",
    "with open('./d4p1_input', 'r') as f:\n",
    "    ipt_string = f.read()\n",
    "\n",
    "Counter([check1(Counter([\"\".join((lambda x:(x.sort(),x)[1])(list(_))) for _ in i.split(' ')]).values()) for i in ipt_string.split('\\n')])"
   ]
  },
  {
   "cell_type": "markdown",
   "metadata": {},
   "source": [
    "### Day 5"
   ]
  },
  {
   "cell_type": "code",
   "execution_count": null,
   "metadata": {
    "collapsed": true
   },
   "outputs": [],
   "source": [
    "# --- Part One ---\n",
    "\n",
    "with open('./d5p1_input', 'r') as f:\n",
    "    ipt_list = [int(i) for i in f.read().split('\\n')]\n",
    "\n",
    "i, cnt = 0, 0\n",
    "while True:\n",
    "    j = i\n",
    "    try:\n",
    "        i += ipt_list[i]\n",
    "        ipt_list[j] += 1\n",
    "        cnt += 1\n",
    "    except:\n",
    "        print(cnt)\n",
    "        break"
   ]
  },
  {
   "cell_type": "code",
   "execution_count": null,
   "metadata": {
    "collapsed": true
   },
   "outputs": [],
   "source": [
    "# --- Part Two ---\n",
    "with open('./d5p1_input', 'r') as f:\n",
    "    ipt_list = [int(i) for i in f.read().split('\\n')]\n",
    "\n",
    "i, cnt = 0, 0\n",
    "while True:\n",
    "    j = i\n",
    "    try:\n",
    "        i += ipt_list[i]\n",
    "        if ipt_list[j] >= 3:\n",
    "            ipt_list[j] -= 1\n",
    "        else:\n",
    "            ipt_list[j] += 1\n",
    "        cnt += 1\n",
    "    except:\n",
    "        print(cnt)\n",
    "        break"
   ]
  },
  {
   "cell_type": "markdown",
   "metadata": {},
   "source": [
    "### Day 6"
   ]
  },
  {
   "cell_type": "code",
   "execution_count": null,
   "metadata": {},
   "outputs": [],
   "source": [
    "# --- Part One ---\n",
    "# Thanks to https://www.reddit.com/r/adventofcode/comments/7z38pz/help_with_day_6_part_1/\n",
    "\n",
    "seq = '10\t3\t15\t10\t5\t15\t5\t15\t9\t2\t5\t8\t5\t2\t3\t6'\n",
    "\n",
    "seq = list(map(int, seq.split('\\t')))\n",
    "r = []\n",
    "i = 0\n",
    "while True:\n",
    "    hold = max(seq)\n",
    "    idx = seq.index(max(seq)) + 1\n",
    "    seq[seq.index(max(seq))] = 0\n",
    "    \n",
    "\n",
    "    while hold > 0:     \n",
    "        if idx == len(seq):\n",
    "            idx = 0\n",
    "        hold -= 1\n",
    "        seq[idx] += 1\n",
    "        idx += 1\n",
    "    i += 1\n",
    "    if seq in r:\n",
    "        print(i)\n",
    "        break\n",
    "    else:\n",
    "        r.append(seq[:])"
   ]
  },
  {
   "cell_type": "code",
   "execution_count": null,
   "metadata": {},
   "outputs": [],
   "source": [
    "# --- Part Two ---\n",
    "\n",
    "seq = '10\t3\t15\t10\t5\t15\t5\t15\t9\t2\t5\t8\t5\t2\t3\t6'\n",
    "seq = list(map(int, seq.split('\\t')))\n",
    "\n",
    "r = []\n",
    "i = 0\n",
    "while True:\n",
    "    hold = max(seq)\n",
    "    idx = seq.index(max(seq)) + 1\n",
    "    seq[seq.index(max(seq))] = 0\n",
    "    \n",
    "\n",
    "    while hold > 0:     \n",
    "        if idx == len(seq):\n",
    "            idx = 0\n",
    "        hold -= 1\n",
    "        seq[idx] += 1\n",
    "        idx += 1\n",
    "    i += 1\n",
    "    if seq in r:\n",
    "        print(i-r.index(seq)-1)\n",
    "        break\n",
    "    else:\n",
    "        r.append(seq[:])"
   ]
  },
  {
   "cell_type": "markdown",
   "metadata": {},
   "source": [
    "### Day 7"
   ]
  },
  {
   "cell_type": "code",
   "execution_count": null,
   "metadata": {
    "collapsed": true
   },
   "outputs": [],
   "source": [
    "# --- Part One ---\n",
    "\n"
   ]
  }
 ],
 "metadata": {
  "kernelspec": {
   "display_name": "Python 3",
   "language": "python",
   "name": "python3"
  },
  "language_info": {
   "codemirror_mode": {
    "name": "ipython",
    "version": 3
   },
   "file_extension": ".py",
   "mimetype": "text/x-python",
   "name": "python",
   "nbconvert_exporter": "python",
   "pygments_lexer": "ipython3",
   "version": "3.6.1"
  }
 },
 "nbformat": 4,
 "nbformat_minor": 2
}
